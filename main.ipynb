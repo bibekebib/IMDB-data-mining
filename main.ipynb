{
 "cells": [
  {
   "cell_type": "markdown",
   "metadata": {},
   "source": [
    "## import necessary libraries"
   ]
  },
  {
   "cell_type": "code",
   "execution_count": 17,
   "metadata": {},
   "outputs": [],
   "source": [
    "from bs4 import BeautifulSoup as bs\n",
    "import requests"
   ]
  },
  {
   "cell_type": "markdown",
   "metadata": {},
   "source": [
    "#### Load the webpage"
   ]
  },
  {
   "cell_type": "code",
   "execution_count": 19,
   "metadata": {},
   "outputs": [],
   "source": [
    "r = requests.get('https://en.wikipedia.org/wiki/Toy_Story_3')"
   ]
  },
  {
   "cell_type": "code",
   "execution_count": 3,
   "metadata": {},
   "outputs": [],
   "source": [
    "# convert to a beautiful soup object"
   ]
  },
  {
   "cell_type": "code",
   "execution_count": 20,
   "metadata": {
    "tags": []
   },
   "outputs": [],
   "source": [
    "soup = bs(r.content)\n",
    "contents = soup.prettify()\n",
    "info_box = soup.find(class_='infobox vevent')\n",
    "# print(info_box.prettify())\n",
    "info_rows = info_box.find_all('tr')\n",
    "# for row in info_rows:\n",
    "    # print(row.prettify())\n"
   ]
  },
  {
   "cell_type": "code",
   "execution_count": 21,
   "metadata": {
    "tags": []
   },
   "outputs": [
    {
     "name": "stdout",
     "output_type": "stream",
     "text": [
      "{'title': 'Toy Story 3', 'Directed by': 'Lee Unkrich', 'Produced by': 'Darla K. Anderson', 'Screenplay by': 'Michael Arndt', 'Story by': ['John Lasseter', 'Andrew Stanton', 'Lee Unkrich'], 'Starring': ['Tom Hanks', 'Tim Allen', 'Joan Cusack', 'Don Rickles', 'Wallace Shawn', 'John Ratzenberger', 'Estelle Harris', 'Blake Clark', 'Jeff Pidgeon', 'Ned Beatty', 'Michael Keaton', 'Jodi Benson', 'John Morris'], 'Music by': 'Randy Newman', 'Cinematography': ['Jeremy Lasky', 'Kim White'], 'Edited by': 'Ken Schretzmann', 'Production company': ['Walt Disney Pictures', 'Pixar Animation Studios'], 'Distributed by': 'Walt Disney Studios Motion Pictures', 'Release date': ['June 12, 2010 ( 2010-06-12 ) ( Taormina Film Fest )', 'June 18, 2010 ( 2010-06-18 ) (United States)'], 'Running time': '103 minutes [1]', 'Country': 'United States', 'Language': 'English', 'Budget': '$200 million [1]', 'Box office': '$1.067 billion [1]'}\n"
     ]
    }
   ],
   "source": [
    "def get_contnet_value(row_data):\n",
    "    if row.find('li'):\n",
    "        return [li.get_text(' ', strip=True).replace('\\xa0', ' ') for li in row_data.find_all('li')]\n",
    "    else:\n",
    "        return row_data.get_text(' ', strip=True).replace('\\xa0', ' ')\n",
    "movie_info = {}\n",
    "for index, row in enumerate (info_rows):\n",
    "    if index==0:\n",
    "        movie_info['title'] =row.find('th').get_text()\n",
    "    elif index==1:\n",
    "        continue\n",
    "    else:\n",
    "        content_key = row.find('th').get_text(' ', strip=True)\n",
    "        content_value = get_contnet_value(row.find('td'))\n",
    "        movie_info[content_key] = content_value\n",
    "print(movie_info)\n",
    "\n"
   ]
  },
  {
   "cell_type": "code",
   "execution_count": 6,
   "metadata": {},
   "outputs": [],
   "source": [
    "### Get Movie information for all movies"
   ]
  },
  {
   "cell_type": "code",
   "execution_count": 22,
   "metadata": {
    "tags": []
   },
   "outputs": [],
   "source": [
    "r = requests.get('https://en.wikipedia.org/wiki/List_of_Walt_Disney_Pictures_films')\n",
    "soup = bs(r.content)\n",
    "contents = soup.prettify()\n",
    "# print(contents)\n",
    "\n"
   ]
  },
  {
   "cell_type": "code",
   "execution_count": 23,
   "metadata": {
    "tags": []
   },
   "outputs": [],
   "source": [
    "movies = soup.select('.wikitable.sortable i a')\n",
    "# print(movies[0:10])\n",
    "# movies[0]"
   ]
  },
  {
   "cell_type": "code",
   "execution_count": 24,
   "metadata": {},
   "outputs": [],
   "source": [
    "def get_contnet_value(row_data):\n",
    "    if row.find('li'):\n",
    "        return [li.get_text(' ', strip=True).replace('\\xa0', ' ') for li in row_data.find_all('li')]\n",
    "    else:\n",
    "        return row_data.get_text(' ', strip=True).replace('\\xa0', ' ')\n",
    "def get_info_box(url):\n",
    "    r = requests.get(url)\n",
    "    soup = bs(r.content)\n",
    "    info_box = soup.find(class_='infobox vevent')\n",
    "    info_rows = info_box.find_all('tr')\n",
    "\n",
    "    movie_info = {}\n",
    "    for index, row in enumerate (info_rows):\n",
    "        if index==0:\n",
    "            movie_info['title'] =row.find('th').get_text()\n",
    "        elif index==1:\n",
    "            continue\n",
    "        else:\n",
    "            content_key = row.find('th').get_text(' ', strip=True)\n",
    "            content_value = get_contnet_value(row.find('td'))\n",
    "            movie_info[content_key] = content_value\n",
    "    return movie_info\n",
    "\n"
   ]
  },
  {
   "cell_type": "code",
   "execution_count": null,
   "metadata": {},
   "outputs": [],
   "source": [
    "r = requests.get('https://en.wikipedia.org/wiki/List_of_Walt_Disney_Pictures_films')\n",
    "soup = bs(r.content)\n",
    "contents = soup.prettify()\n",
    "movies = soup.select('.wikitable.sortable i a')\n",
    "base_path = 'https://en.wikipedia.org/'\n",
    "\n",
    "movie_info_list = []\n",
    "for index, movie in enumerate(movies):\n",
    "    if index == 1:\n",
    "        break\n",
    "    try:\n",
    "        relative_path = movie['href']\n",
    "        full_path = base_path + relative_path\n",
    "        title = movie['title']\n",
    "        movie_info_list.append(get_info_box(full_path))\n",
    "        \n",
    "    except Exception as e:\n",
    "        print(e)"
   ]
  },
  {
   "cell_type": "code",
   "execution_count": null,
   "metadata": {},
   "outputs": [],
   "source": [
    "movie_info_list[0]"
   ]
  }
 ],
 "metadata": {
  "kernelspec": {
   "display_name": "Python 3.8.2 64-bit",
   "language": "python",
   "name": "python38264bit63c7f6e88c0147f29b1bcb3b1819e519"
  },
  "language_info": {
   "codemirror_mode": {
    "name": "ipython",
    "version": 3
   },
   "file_extension": ".py",
   "mimetype": "text/x-python",
   "name": "python",
   "nbconvert_exporter": "python",
   "pygments_lexer": "ipython3",
   "version": "3.8.2"
  }
 },
 "nbformat": 4,
 "nbformat_minor": 2
}
